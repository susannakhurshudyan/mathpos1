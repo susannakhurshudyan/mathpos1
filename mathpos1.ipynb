{
 "cells": [
  {
   "cell_type": "markdown",
   "metadata": {},
   "source": [
    "1. Из колоды в 52 карты извлекаются случайным образом 4 карты.\n",
    "a) Найти вероятность того, что все карты – крести. \n",
    "б) Найти вероятность, что среди 4-х карт окажется хотя бы один туз."
   ]
  },
  {
   "cell_type": "code",
   "execution_count": 2,
   "metadata": {},
   "outputs": [],
   "source": [
    "from math import factorial"
   ]
  },
  {
   "cell_type": "code",
   "execution_count": 6,
   "metadata": {},
   "outputs": [],
   "source": [
    "a = 52\n",
    "b = 4\n",
    "c = 13"
   ]
  },
  {
   "cell_type": "code",
   "execution_count": 9,
   "metadata": {},
   "outputs": [
    {
     "name": "stdout",
     "output_type": "stream",
     "text": [
      "Вероятность того, что все карты – крести: 0.0026410564225690276\n"
     ]
    }
   ],
   "source": [
    "n = factorial(a)/(factorial(b)*factorial(a-b))\n",
    "m = factorial(c)/(factorial(b)*factorial(c-b))\n",
    "p = m/n\n",
    "print (\"Вероятность того, что все карты – крести:\", p)"
   ]
  },
  {
   "cell_type": "markdown",
   "metadata": {},
   "source": [
    "###### Из 4-х карт может быть 0 тузов, 1 туз, 2 туза, 3 туза или 4 туза. <br> Наш желаемый исход: 1,2,3 или 4 <br>\n",
    "###### Поэтому общая вероятность определяется как сумма вероятностей по жедаемым исходам. "
   ]
  },
  {
   "cell_type": "code",
   "execution_count": 14,
   "metadata": {},
   "outputs": [
    {
     "name": "stdout",
     "output_type": "stream",
     "text": [
      "Вероятность того, что среди 4-х карт окажется хотя бы один туз: 0.2812632745405855\n"
     ]
    }
   ],
   "source": [
    "m1 = (factorial(b)/(factorial(1)*factorial(b-1)))*(factorial(a-b)/(factorial(a-2*b+1)*factorial(b-1)))\n",
    "m2 = (factorial(b)/(factorial(2)*factorial(b-2)))*(factorial(a-b)/(factorial(a-2*b+2)*factorial(b-2)))\n",
    "m3 = (factorial(b)/(factorial(3)*factorial(b-3)))*(factorial(a-b)/(factorial(a-2*b+3)*factorial(b-3)))\n",
    "m4 = (factorial(b)/(factorial(4)*factorial(b-4)))*(factorial(a-b)/(factorial(a-2*b+4)*factorial(b-4)))\n",
    "m_all = m1+m2+m3+m4\n",
    "print (\"Вероятность того, что среди 4-х карт окажется хотя бы один туз:\", m_all/n)"
   ]
  },
  {
   "cell_type": "markdown",
   "metadata": {},
   "source": [
    "2. На входной двери подъезда установлен кодовый замок, содержащий десять кнопок с цифрами от 0 до 9. Код содержит три цифры, которые нужно нажать одновременно. Какова вероятность того, что человек, не знающий код, откроет дверь с первой попытки?"
   ]
  },
  {
   "cell_type": "code",
   "execution_count": 19,
   "metadata": {},
   "outputs": [],
   "source": [
    "a = 10 \n",
    "b = 3"
   ]
  },
  {
   "cell_type": "markdown",
   "metadata": {},
   "source": [
    "###### Так как для кода порядок цифр важен, нужно использовать размещение"
   ]
  },
  {
   "cell_type": "code",
   "execution_count": 21,
   "metadata": {},
   "outputs": [
    {
     "name": "stdout",
     "output_type": "stream",
     "text": [
      "Вероятность того, что человек, не знающий код, откроет дверь с первой попытки: 0.001388888888888889\n"
     ]
    }
   ],
   "source": [
    "n = factorial(10)/factorial(7)\n",
    "m = 1\n",
    "p = m/n\n",
    "print (\"Вероятность того, что человек, не знающий код, откроет дверь с первой попытки:\", p)"
   ]
  },
  {
   "cell_type": "markdown",
   "metadata": {},
   "source": [
    "3. В ящике имеется 15 деталей, из которых 9 окрашены. Рабочий случайным образом извлекает 3 детали. Какова вероятность того, что все извлеченные детали окрашены?"
   ]
  },
  {
   "cell_type": "code",
   "execution_count": 25,
   "metadata": {},
   "outputs": [],
   "source": [
    "a = 15\n",
    "b = 9\n",
    "c = 3"
   ]
  },
  {
   "cell_type": "code",
   "execution_count": 27,
   "metadata": {},
   "outputs": [
    {
     "name": "stdout",
     "output_type": "stream",
     "text": [
      "Bероятность того, что все извлеченные детали окрашены: 0.18461538461538463\n"
     ]
    }
   ],
   "source": [
    "n = factorial(a)/(factorial(c)*factorial(a-c))\n",
    "m = factorial(b)/(factorial(c)*factorial(b-c))\n",
    "p = m/n\n",
    "print (\"Bероятность того, что все извлеченные детали окрашены:\", p)"
   ]
  },
  {
   "cell_type": "markdown",
   "metadata": {},
   "source": [
    "4. В лотерее 100 билетов. Из них 2 выигрышных. Какова вероятность того, что 2 приобретенных билета окажутся выигрышными?"
   ]
  },
  {
   "cell_type": "code",
   "execution_count": 31,
   "metadata": {},
   "outputs": [],
   "source": [
    "a = 100\n",
    "b = 2\n",
    "c = 2"
   ]
  },
  {
   "cell_type": "code",
   "execution_count": 32,
   "metadata": {},
   "outputs": [
    {
     "name": "stdout",
     "output_type": "stream",
     "text": [
      "Bероятность того, что 2 приобретенных билета окажутся выигрышными: 0.00020202020202020202\n"
     ]
    }
   ],
   "source": [
    "n = factorial(a)/(factorial(b)*factorial(a-b))\n",
    "m = factorial(c)/(factorial(b)*factorial(b-c))\n",
    "p = m/n\n",
    "print (\"Bероятность того, что 2 приобретенных билета окажутся выигрышными:\", p)"
   ]
  }
 ],
 "metadata": {
  "kernelspec": {
   "display_name": "base",
   "language": "python",
   "name": "python3"
  },
  "language_info": {
   "codemirror_mode": {
    "name": "ipython",
    "version": 3
   },
   "file_extension": ".py",
   "mimetype": "text/x-python",
   "name": "python",
   "nbconvert_exporter": "python",
   "pygments_lexer": "ipython3",
   "version": "3.9.7"
  },
  "orig_nbformat": 4
 },
 "nbformat": 4,
 "nbformat_minor": 2
}
